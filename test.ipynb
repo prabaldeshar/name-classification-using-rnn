{
 "cells": [
  {
   "cell_type": "code",
   "execution_count": 14,
   "metadata": {},
   "outputs": [],
   "source": [
    "import torch\n",
    "import torch.nn as nn\n",
    "import matplotlib.pyplot as plt\n",
    "\n",
    "class RNN(nn.Module):\n",
    "    def __init__(self, input_size, hidden_size, output_size):\n",
    "        super(RNN, self).__init__()\n",
    "\n",
    "        self.hidden_size = hidden_size\n",
    "        self.i2h = nn.Linear(\n",
    "            in_features=input_size + hidden_size, out_features=hidden_size\n",
    "        )\n",
    "        self.i2o = nn.Linear(\n",
    "            in_features=input_size + hidden_size, out_features=output_size\n",
    "        )\n",
    "        self.softmax = nn.LogSoftmax(\n",
    "            dim=1\n",
    "        )  # dim(int) - A dimension along which LogSoftmax will be computed\n",
    "\n",
    "    def forward(self, input_tensor, hidden_tensor):\n",
    "        combined = torch.cat((input_tensor, hidden_tensor), 1)\n",
    "\n",
    "        hidden = self.i2h(combined)\n",
    "        output = self.i2o(combined)\n",
    "        output = self.softmax(output)\n",
    "        return output, hidden\n",
    "\n",
    "    def init_hidden(self):\n",
    "        return torch.zeros(1, self.hidden_size)\n"
   ]
  },
  {
   "cell_type": "code",
   "execution_count": 18,
   "metadata": {},
   "outputs": [
    {
     "name": "stdout",
     "output_type": "stream",
     "text": [
      "['Polish', 'Spanish', 'English', 'Irish', 'German', 'Chinese', 'Greek', 'Italian', 'Vietnamese', 'Czech', 'Korean', 'French', 'Dutch', 'Arabic', 'Scottish', 'Portuguese', 'Japanese', 'Russian']\n"
     ]
    }
   ],
   "source": [
    "\n",
    "from utils import ALL_LETTERS, N_LETTERS\n",
    "from utils import load_data, letter_to_tensor, line_to_tensor, random_training_example\n",
    "\n",
    "category_lines, all_categories = load_data()\n",
    "n_categories = len(all_categories)\n",
    "print(all_categories)"
   ]
  },
  {
   "cell_type": "code",
   "execution_count": 19,
   "metadata": {},
   "outputs": [],
   "source": [
    "n_hidden = 128\n",
    "rnn = RNN(N_LETTERS, n_hidden, n_categories)"
   ]
  },
  {
   "cell_type": "code",
   "execution_count": 22,
   "metadata": {},
   "outputs": [
    {
     "name": "stdout",
     "output_type": "stream",
     "text": [
      "Output size  torch.Size([1, 18])\n",
      "Hidden size  torch.Size([1, 128])\n"
     ]
    }
   ],
   "source": [
    "input_tensor = letter_to_tensor('A')\n",
    "hidden_tensor = rnn.init_hidden()\n",
    "\n",
    "output, next_hidden = rnn(input_tensor, hidden_tensor)\n",
    "\n",
    "print(\"Output size \",output.size())\n",
    "print(\"Hidden size \",next_hidden.size())"
   ]
  },
  {
   "cell_type": "code",
   "execution_count": 25,
   "metadata": {},
   "outputs": [
    {
     "name": "stdout",
     "output_type": "stream",
     "text": [
      "Output size  torch.Size([1, 18])\n",
      "Hidden size  torch.Size([1, 128])\n"
     ]
    }
   ],
   "source": [
    "# whole sequence\n",
    "input_tensor = line_to_tensor('Albert')\n",
    "hidden_tensor = rnn.init_hidden()\n",
    "\n",
    "output, next_hidden = rnn(input_tensor[0], hidden_tensor)\n",
    "\n",
    "print(\"Output size \",output.size())\n",
    "print(\"Hidden size \",next_hidden.size())"
   ]
  },
  {
   "cell_type": "code",
   "execution_count": 26,
   "metadata": {},
   "outputs": [],
   "source": [
    "def category_from_output(output):\n",
    "    category_idx = torch.argmax(output).item()\n",
    "    return all_categories[category_idx]"
   ]
  },
  {
   "cell_type": "code",
   "execution_count": 27,
   "metadata": {},
   "outputs": [
    {
     "name": "stdout",
     "output_type": "stream",
     "text": [
      "Irish\n"
     ]
    }
   ],
   "source": [
    "print(category_from_output(output))"
   ]
  },
  {
   "cell_type": "code",
   "execution_count": 28,
   "metadata": {},
   "outputs": [],
   "source": [
    "criterion = nn.NLLLoss()\n",
    "learning_rate = 0.005\n",
    "optimizer = torch.optim.SGD(rnn.parameters(), lr=learning_rate)\n"
   ]
  },
  {
   "cell_type": "code",
   "execution_count": 30,
   "metadata": {},
   "outputs": [
    {
     "name": "stdout",
     "output_type": "stream",
     "text": [
      "4999 0.04999 3.1573 Pan / Vietnamese WRONG (French)\n",
      "9999 0.09999 2.0483 Siegel / Dutch WRONG (German)\n",
      "14999 0.14999 0.8689 Choi / Korean CORRECT\n",
      "19999 0.19999 1.0740 Yin / Korean WRONG (Chinese)\n",
      "24999 0.24999 2.5580 Corner / German WRONG (English)\n",
      "29999 0.29999 0.3961 Glynatsis / Greek CORRECT\n",
      "34999 0.34999 0.0901 Papoutsis / Greek CORRECT\n",
      "39999 0.39999 0.4556 Antwerpen / Dutch CORRECT\n",
      "44999 0.44999 3.7303 Suaird / Arabic WRONG (Irish)\n",
      "49999 0.49999 4.2494 Gerges / German WRONG (Arabic)\n",
      "54999 0.54999 1.6326 Leclair / Scottish WRONG (French)\n",
      "59999 0.59999 0.7721 Fionn / Irish CORRECT\n",
      "64999 0.64999 0.5399 Armbruster / German CORRECT\n",
      "69999 0.69999 0.6047 Inouye / Japanese CORRECT\n",
      "74999 0.74999 0.6494 Ashida / Japanese CORRECT\n",
      "79999 0.79999 2.1457 Mcgregor / French WRONG (Scottish)\n",
      "84999 0.84999 0.5595 Lolos / Greek CORRECT\n",
      "89999 0.89999 2.4441 Fuchida / Portuguese WRONG (Japanese)\n",
      "94999 0.94999 0.0718 Abrosimov / Russian CORRECT\n",
      "99999 0.99999 4.7487 Sone / Korean WRONG (Japanese)\n"
     ]
    },
    {
     "data": {
      "image/png": "[encoded data removed]",
      "text/plain": [
       "<Figure size 432x288 with 1 Axes>"
      ]
     },
     "metadata": {
      "needs_background": "light"
     },
     "output_type": "display_data"
    }
   ],
   "source": [
    "from unicodedata import category\n",
    "\n",
    "\n",
    "def train(line_tensor, category_tensor):\n",
    "    hidden = rnn.init_hidden()\n",
    "    for i in range(line_tensor.size()[0]):\n",
    "        output, hidden = rnn(line_tensor[i], hidden)\n",
    "    \n",
    "    loss = criterion(output, category_tensor)\n",
    "    optimizer.zero_grad()\n",
    "    loss.backward()\n",
    "    optimizer.step()\n",
    "\n",
    "    return output, loss.item()\n",
    "\n",
    "current_loss = 0\n",
    "all_losses = []\n",
    "plot_steps, print_steps = 1000, 5000\n",
    "n_iters = 100000\n",
    "\n",
    "for i in range(n_iters):\n",
    "    category, line, category_tensor, line_tensor = random_training_example(category_lines, all_categories)\n",
    "\n",
    "    output, loss = train(line_tensor, category_tensor)\n",
    "    current_loss += loss\n",
    "\n",
    "    if (i+1) % plot_steps == 0:\n",
    "        all_losses.append(current_loss / plot_steps)\n",
    "        current_loss = 0\n",
    "    \n",
    "    if (i+1) % print_steps == 0:\n",
    "        guess = category_from_output(output)\n",
    "        correct = \"CORRECT\" if guess == category else f\"WRONG ({category})\"\n",
    "        print(f\"{i} {i/n_iters} {loss:.4f} {line} / {guess} {correct}\")\n",
    "\n",
    "plt.figure()\n",
    "plt.plot(all_losses)\n",
    "plt.show()    "
   ]
  },
  {
   "cell_type": "code",
   "execution_count": 35,
   "metadata": {},
   "outputs": [],
   "source": [
    "def predict(input_line):\n",
    "    print(f\"\\n {input_line}\")\n",
    "    with torch.no_grad():\n",
    "        line_tensor = line_to_tensor(input_line)\n",
    "        hidden = rnn.init_hidden()\n",
    "        for i in range(line_tensor.size()[0]):\n",
    "            output, hidden = rnn(line_tensor[i], hidden)\n",
    "        \n",
    "        guess = category_from_output(output)\n",
    "        print(guess)"
   ]
  },
  {
   "cell_type": "code",
   "execution_count": 37,
   "metadata": {},
   "outputs": [
    {
     "name": "stdout",
     "output_type": "stream",
     "text": [
      "\n",
      " Nahas\n",
      "Arabic\n"
     ]
    }
   ],
   "source": [
    "predict(\"Nahas\")"
   ]
  },
  {
   "cell_type": "code",
   "execution_count": null,
   "metadata": {},
   "outputs": [],
   "source": []
  }
 ],
 "metadata": {
  "kernelspec": {
   "display_name": "Python 3.8.10 ('env')",
   "language": "python",
   "name": "python3"
  },
  "language_info": {
   "codemirror_mode": {
    "name": "ipython",
    "version": 3
   },
   "file_extension": ".py",
   "mimetype": "text/x-python",
   "name": "python",
   "nbconvert_exporter": "python",
   "pygments_lexer": "ipython3",
   "version": "3.8.10"
  },
  "orig_nbformat": 4,
  "vscode": {
   "interpreter": {
    "hash": "30e6d3946926e66281dd3a29380351d40adc6775cfb4e3faec39ddcb9f1fe9db"
   }
  }
 },
 "nbformat": 4,
 "nbformat_minor": 2
}
